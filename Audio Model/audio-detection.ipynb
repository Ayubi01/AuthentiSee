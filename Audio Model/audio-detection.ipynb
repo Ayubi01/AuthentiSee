{
 "cells": [
  {
   "cell_type": "code",
   "execution_count": 3,
   "metadata": {
    "execution": {
     "iopub.execute_input": "2025-02-28T04:18:04.847295Z",
     "iopub.status.busy": "2025-02-28T04:18:04.847005Z",
     "iopub.status.idle": "2025-02-28T04:18:04.851906Z",
     "shell.execute_reply": "2025-02-28T04:18:04.851088Z",
     "shell.execute_reply.started": "2025-02-28T04:18:04.847272Z"
    },
    "trusted": true
   },
   "outputs": [],
   "source": [
    "# Import necessary libraries for data handling, plotting, and deep learning\n",
    "import numpy as np\n",
    "import pandas as pd\n",
    "import matplotlib.pyplot as plt\n",
    "import seaborn as sns\n",
    "import librosa\n",
    "import tensorflow as tf\n",
    "from sklearn.model_selection import train_test_split\n",
    "from sklearn.metrics import confusion_matrix, classification_report\n",
    "from tensorflow.keras.models import Sequential\n",
    "from tensorflow. keras.layers import LSTM, Dense, Dropout\n",
    "from tensorflow.keras.optimizers import Adam\n",
    "from tensorflow.keras.utils import to_categorical\n"
   ]
  },
  {
   "cell_type": "code",
   "execution_count": 4,
   "metadata": {
    "execution": {
     "iopub.execute_input": "2025-02-28T04:18:09.115045Z",
     "iopub.status.busy": "2025-02-28T04:18:09.114767Z",
     "iopub.status.idle": "2025-02-28T04:18:09.120250Z",
     "shell.execute_reply": "2025-02-28T04:18:09.119404Z",
     "shell.execute_reply.started": "2025-02-28T04:18:09.115025Z"
    },
    "trusted": true
   },
   "outputs": [],
   "source": [
    "# Function to load and preprocess audio data by extracting features (MFCCs)\n",
    "def load_and_preprocess_data(audio_path, label):\n",
    "    # Load the audio file and set sample rate to None to keep it original\n",
    "    audio, sr = librosa.load(audio_path, sr=None)\n",
    "\n",
    "    # Extract MFCC (Mel-frequency cepstral coefficients) features, often used in audio analysis\n",
    "    mfccs = librosa. feature.mfcc(y=audio, sr=sr, n_mfcc=13)\n",
    "\n",
    "    # Transpose MFCCs to shape them correctly for model input\n",
    "    return mfccs.T, label\n",
    "\n",
    "# Function to prepare dataset from real and fake audio file paths\n",
    "def prepare_dataset(real_paths, fake_paths):\n",
    "    X, y = [], [] # X will hold features, y will hold labels (0 for real, 1 for fake)\n",
    "    # Load real audio files and label them as 0 (real)\n",
    "    for path in real_paths:\n",
    "        features, label = load_and_preprocess_data(path, 0)\n",
    "        X.append (features)\n",
    "        y.append(label)\n",
    "\n",
    "    # Load fake audio files and label them as 1 (fake)\n",
    "    for path in fake_paths:\n",
    "        features, label = load_and_preprocess_data(path, 1)\n",
    "        X.append (features)\n",
    "        y.append(label)\n",
    "\n",
    "    # Return features(X) and labels (y) as numpy arrays for model compatibility\n",
    "    return X,np.array(y)\n"
   ]
  },
  {
   "cell_type": "code",
   "execution_count": 5,
   "metadata": {
    "execution": {
     "iopub.execute_input": "2025-02-28T04:18:17.027419Z",
     "iopub.status.busy": "2025-02-28T04:18:17.027117Z",
     "iopub.status.idle": "2025-02-28T04:18:17.032966Z",
     "shell.execute_reply": "2025-02-28T04:18:17.032121Z",
     "shell.execute_reply.started": "2025-02-28T04:18:17.027394Z"
    },
    "trusted": true
   },
   "outputs": [],
   "source": [
    "# Function to apply data augmentation techniques to the dataset\n",
    "def augment_data(X, y):\n",
    "    augmented_X, augmented_y = [], []\n",
    "\n",
    "    # Loop through each feature set and label\n",
    "    for features, label in zip(X, y):\n",
    "        augmented_X.append (features) # Original features\n",
    "        augmented_y.append(label) # Original label\n",
    "\n",
    "        # Time stretching (simulate by adjusting audio speed before extracting features)\n",
    "        audio_signal = librosa.effects. time_stretch(features. T[0], rate=0.8)\n",
    "        augmented_X.append(librosa.feature.mfcc(y=audio_signal, sr=22050, n_mfcc=13).T)\n",
    "        augmented_y.append (label)\n",
    "\n",
    "        # Pitch shifting (change pitch slightly for diversity in data)\n",
    "        audio_signal_shifted = librosa.effects.pitch_shift(features. T[0], sr=22050, n_steps=2)\n",
    "        augmented_X.append(librosa. feature.mfcc(y=audio_signal_shifted, sr=22050, n_mfcc=13).T)\n",
    "        augmented_y.append (label)\n",
    "\n",
    "    # Return augmented features and labels\n",
    "    return augmented_X, np.array(augmented_y)\n"
   ]
  },
  {
   "cell_type": "code",
   "execution_count": 6,
   "metadata": {
    "execution": {
     "iopub.execute_input": "2025-02-28T04:18:21.624177Z",
     "iopub.status.busy": "2025-02-28T04:18:21.623850Z",
     "iopub.status.idle": "2025-02-28T04:18:21.628984Z",
     "shell.execute_reply": "2025-02-28T04:18:21.628001Z",
     "shell.execute_reply.started": "2025-02-28T04:18:21.624151Z"
    },
    "trusted": true
   },
   "outputs": [],
   "source": [
    "# An LSTM, or Long Short-Term Memory network, is a special type of neural network that's great for\n",
    "# handling sequences of data, like text, speech, or time-series data. Imagine it as a smart memory system\n",
    "# that remembers important information from the past and forgets unimportant details.\n",
    "\n",
    "# Here's a simple breakdown:\n",
    "\n",
    "# Memory Cells: LSTM networks have \"memory cells\" that can hold information over long time periods.\n",
    "# Each cell decides what to remember, what to forget, and what new information to add, using special\n",
    "# structures called \"gates.\n",
    "\n",
    "#\"Gates: There are three main gates:\n",
    "\n",
    "# Forget Gate: Decides what past information to forget.\n",
    "#Input Gate: Chooses which new information to store.\n",
    "# Output Gate: Decides what information to send to the next step.\n",
    "\n",
    "# Learning from Sequences: These gates allow LSTMs to selectively remember or forget information as theyprocess each step of the sequence,\n",
    "#making them useful for things like language translation,predicting stock prices, or detecting anomalies in sensor data.\n",
    "\n",
    "def create_model(input_shape) :\n",
    "\n",
    "    model = Sequential ([\n",
    "        Input(shape=input_shape),\n",
    "        Masking(mask_value=0.),\n",
    "        LSTM(64, return_sequences=True),\n",
    "        Dropout(0.2),\n",
    "        LSTM(32),\n",
    "        Dropout(0.2),\n",
    "        Dense(16, activation='relu'),\n",
    "        Dense(2, activation='softmax' )\n",
    "    ])\n",
    "\n",
    "    model.compile(optimizer=Adam(learning_rate=0.001),\n",
    "                  loss='categorical_crossentropy',\n",
    "                  metrics=['accuracy' ])\n",
    "\n",
    "    return model\n"
   ]
  },
  {
   "cell_type": "code",
   "execution_count": 7,
   "metadata": {
    "execution": {
     "iopub.execute_input": "2025-02-28T04:18:27.842248Z",
     "iopub.status.busy": "2025-02-28T04:18:27.841953Z",
     "iopub.status.idle": "2025-02-28T04:18:27.846651Z",
     "shell.execute_reply": "2025-02-28T04:18:27.845901Z",
     "shell.execute_reply.started": "2025-02-28T04:18:27.842225Z"
    },
    "trusted": true
   },
   "outputs": [],
   "source": [
    "# Function to train and evaluate the model\n",
    "def train_and_evaluate(model, X_train, y_train, X_test, y_test, epochs=25, batch_size=32):\n",
    "\n",
    "    # Train the model and store the training history for plotting\n",
    "    history = model.fit(X_train, y_train, epochs=epochs, batch_size=batch_size,validation_split=0.2, verbose=1)\n",
    "\n",
    "    # Evaluate the model on test data and print test accuracy\n",
    "    test_loss, test_acc = model.evaluate(X_test, y_test, verbose=0)\n",
    "    print(f\"Test accuracy: {test_acc :.4f}\")\n",
    "\n",
    "    # Return the training history to analyze learning progress\n",
    "    return history\n"
   ]
  },
  {
   "cell_type": "code",
   "execution_count": 8,
   "metadata": {
    "execution": {
     "iopub.execute_input": "2025-02-28T04:18:33.907038Z",
     "iopub.status.busy": "2025-02-28T04:18:33.906736Z",
     "iopub.status.idle": "2025-02-28T04:18:33.912465Z",
     "shell.execute_reply": "2025-02-28T04:18:33.911591Z",
     "shell.execute_reply.started": "2025-02-28T04:18:33.907015Z"
    },
    "trusted": true
   },
   "outputs": [],
   "source": [
    "# Function to visualize training and validation accuracy and loss\n",
    "def plot_training_history(history) :\n",
    "    plt.figure(figsize=(12, 4))\n",
    "\n",
    "    # Plot accuracy over epochs\n",
    "    plt.subplot(1, 2, 1)\n",
    "    plt.plot(history.history['accuracy'], label='Training Accuracy')\n",
    "    plt.plot(history.history['val_accuracy'], label='Validation Accuracy')\n",
    "    plt.title('Model Accuracy')\n",
    "    plt.xlabel ('Epoch')\n",
    "    plt.ylabel('Accuracy')\n",
    "    plt. legend ()\n",
    "\n",
    "    # Plot loss over epochs\n",
    "    plt.subplot(1, 2, 2)\n",
    "    plt.plot(history.history['loss'], label='Training Loss')\n",
    "    plt.plot(history.history['val_loss'], label='Validation Loss')\n",
    "    plt.title( 'Model Loss')\n",
    "    plt.xlabel('Epoch')\n",
    "    plt.ylabel('Loss')\n",
    "    plt.legend()\n",
    "\n",
    "    plt.tight_layout()\n",
    "    plt. show()\n"
   ]
  },
  {
   "cell_type": "code",
   "execution_count": 9,
   "metadata": {
    "execution": {
     "iopub.execute_input": "2025-02-28T04:18:41.016913Z",
     "iopub.status.busy": "2025-02-28T04:18:41.016587Z",
     "iopub.status.idle": "2025-02-28T04:18:41.021162Z",
     "shell.execute_reply": "2025-02-28T04:18:41.020393Z",
     "shell.execute_reply.started": "2025-02-28T04:18:41.016889Z"
    },
    "trusted": true
   },
   "outputs": [],
   "source": [
    "def plot_confusion_matrix(y_true, y_pred):\n",
    "    cm = confusion_matrix(y_true.argmax(axis=1), y_pred.argmax(axis=1))\n",
    "    plt.figure(figsize=(8, 6))\n",
    "    sns.heatmap(cm, annot=True, fmt='d', cmap='Blues')\n",
    "    plt.title('Confusion Matrix')\n",
    "    plt.xlabel('Predicted')\n",
    "    plt.ylabel('True')\n",
    "    plt.show()\n"
   ]
  },
  {
   "cell_type": "code",
   "execution_count": 10,
   "metadata": {
    "execution": {
     "iopub.execute_input": "2025-02-28T04:18:45.499178Z",
     "iopub.status.busy": "2025-02-28T04:18:45.498897Z",
     "iopub.status.idle": "2025-02-28T04:18:45.502868Z",
     "shell.execute_reply": "2025-02-28T04:18:45.501944Z",
     "shell.execute_reply.started": "2025-02-28T04:18:45.499156Z"
    },
    "trusted": true
   },
   "outputs": [],
   "source": [
    "import os"
   ]
  },
  {
   "cell_type": "code",
   "execution_count": 11,
   "metadata": {
    "execution": {
     "iopub.execute_input": "2025-02-28T04:18:48.961238Z",
     "iopub.status.busy": "2025-02-28T04:18:48.960949Z",
     "iopub.status.idle": "2025-02-28T04:18:48.965015Z",
     "shell.execute_reply": "2025-02-28T04:18:48.964001Z",
     "shell.execute_reply.started": "2025-02-28T04:18:48.961216Z"
    },
    "trusted": true
   },
   "outputs": [],
   "source": [
    "base_path =  \"/kaggle/input/ai-real/data\"\n"
   ]
  },
  {
   "cell_type": "code",
   "execution_count": 12,
   "metadata": {
    "execution": {
     "iopub.execute_input": "2025-02-28T04:18:52.840017Z",
     "iopub.status.busy": "2025-02-28T04:18:52.839736Z",
     "iopub.status.idle": "2025-02-28T04:18:52.844348Z",
     "shell.execute_reply": "2025-02-28T04:18:52.843702Z",
     "shell.execute_reply.started": "2025-02-28T04:18:52.839996Z"
    },
    "trusted": true
   },
   "outputs": [],
   "source": [
    "from tensorflow.keras.preprocessing. sequence import pad_sequences"
   ]
  },
  {
   "cell_type": "code",
   "execution_count": 13,
   "metadata": {
    "execution": {
     "iopub.execute_input": "2025-02-28T04:18:56.424288Z",
     "iopub.status.busy": "2025-02-28T04:18:56.423963Z",
     "iopub.status.idle": "2025-02-28T04:18:56.427862Z",
     "shell.execute_reply": "2025-02-28T04:18:56.426957Z",
     "shell.execute_reply.started": "2025-02-28T04:18:56.424261Z"
    },
    "trusted": true
   },
   "outputs": [],
   "source": [
    "from tensorflow.keras.layers import Input, Masking"
   ]
  },
  {
   "cell_type": "code",
   "execution_count": 17,
   "metadata": {
    "execution": {
     "iopub.execute_input": "2025-02-28T04:23:14.102243Z",
     "iopub.status.busy": "2025-02-28T04:23:14.101941Z",
     "iopub.status.idle": "2025-02-28T04:23:14.115179Z",
     "shell.execute_reply": "2025-02-28T04:23:14.114455Z",
     "shell.execute_reply.started": "2025-02-28T04:23:14.102221Z"
    },
    "trusted": true
   },
   "outputs": [],
   "source": [
    "real_paths = [os. path. join(base_path, \"real\", f) for f in os. listdir(os. path. join(base_path, \"real\") ) if f. endswith(\".wav\")]\n",
    "fake_paths = [os. path. join(base_path, \"fake\", f) for f in os. listdir(os. path. join(base_path, \"fake\") ) if f. endswith(\".wav\")]"
   ]
  },
  {
   "cell_type": "code",
   "execution_count": null,
   "metadata": {
    "execution": {
     "iopub.execute_input": "2025-02-28T04:23:17.855259Z",
     "iopub.status.busy": "2025-02-28T04:23:17.854984Z",
     "iopub.status.idle": "2025-02-28T04:24:59.532018Z",
     "shell.execute_reply": "2025-02-28T04:24:59.531329Z",
     "shell.execute_reply.started": "2025-02-28T04:23:17.855238Z"
    },
    "trusted": true
   },
   "outputs": [],
   "source": [
    "# Prepare and augment the dataset\n",
    "X, y = prepare_dataset (real_paths, fake_paths)\n",
    "X_augmented, y_augmented = augment_data(X, y)"
   ]
  },
  {
   "cell_type": "code",
   "execution_count": 19,
   "metadata": {
    "execution": {
     "iopub.execute_input": "2025-02-28T04:25:05.545496Z",
     "iopub.status.busy": "2025-02-28T04:25:05.544735Z",
     "iopub.status.idle": "2025-02-28T04:25:05.688201Z",
     "shell.execute_reply": "2025-02-28T04:25:05.687395Z",
     "shell.execute_reply.started": "2025-02-28T04:25:05.545455Z"
    },
    "trusted": true
   },
   "outputs": [],
   "source": [
    "# Pad sequences\n",
    "max_length = max(len(seq) for seq in X_augmented)\n",
    "X_padded = pad_sequences(X_augmented, maxlen=max_length, dtype='float32', padding='post', truncating='post')\n"
   ]
  },
  {
   "cell_type": "code",
   "execution_count": 20,
   "metadata": {
    "execution": {
     "iopub.execute_input": "2025-02-28T04:25:11.719927Z",
     "iopub.status.busy": "2025-02-28T04:25:11.719592Z",
     "iopub.status.idle": "2025-02-28T04:25:11.869830Z",
     "shell.execute_reply": "2025-02-28T04:25:11.869126Z",
     "shell.execute_reply.started": "2025-02-28T04:25:11.719900Z"
    },
    "trusted": true
   },
   "outputs": [],
   "source": [
    "# Split the data\n",
    "X_train, X_test, y_train, y_test = train_test_split(X_padded, y_augmented, test_size=0.2, random_state=42)\n"
   ]
  },
  {
   "cell_type": "code",
   "execution_count": 21,
   "metadata": {
    "execution": {
     "iopub.execute_input": "2025-02-28T04:25:16.063989Z",
     "iopub.status.busy": "2025-02-28T04:25:16.063699Z",
     "iopub.status.idle": "2025-02-28T04:25:16.068376Z",
     "shell.execute_reply": "2025-02-28T04:25:16.067587Z",
     "shell.execute_reply.started": "2025-02-28T04:25:16.063968Z"
    },
    "trusted": true
   },
   "outputs": [],
   "source": [
    "# Convert labels to categorical\n",
    "y_train = to_categorical (y_train)\n",
    "y_test = to_categorical(y_test)"
   ]
  },
  {
   "cell_type": "code",
   "execution_count": 22,
   "metadata": {
    "execution": {
     "iopub.execute_input": "2025-02-28T04:25:22.522235Z",
     "iopub.status.busy": "2025-02-28T04:25:22.521933Z",
     "iopub.status.idle": "2025-02-28T04:27:49.313243Z",
     "shell.execute_reply": "2025-02-28T04:27:49.312474Z",
     "shell.execute_reply.started": "2025-02-28T04:25:22.522211Z"
    },
    "trusted": true
   },
   "outputs": [
    {
     "name": "stdout",
     "output_type": "stream",
     "text": [
      "Epoch 1/25\n",
      "\u001b[1m191/191\u001b[0m \u001b[32m━━━━━━━━━━━━━━━━━━━━\u001b[0m\u001b[37m\u001b[0m \u001b[1m11s\u001b[0m 32ms/step - accuracy: 0.7078 - loss: 0.5405 - val_accuracy: 0.9123 - val_loss: 0.2377\n",
      "Epoch 2/25\n",
      "\u001b[1m191/191\u001b[0m \u001b[32m━━━━━━━━━━━━━━━━━━━━\u001b[0m\u001b[37m\u001b[0m \u001b[1m6s\u001b[0m 29ms/step - accuracy: 0.9001 - loss: 0.2415 - val_accuracy: 0.9234 - val_loss: 0.1960\n",
      "Epoch 3/25\n",
      "\u001b[1m191/191\u001b[0m \u001b[32m━━━━━━━━━━━━━━━━━━━━\u001b[0m\u001b[37m\u001b[0m \u001b[1m5s\u001b[0m 28ms/step - accuracy: 0.9207 - loss: 0.1918 - val_accuracy: 0.9241 - val_loss: 0.1905\n",
      "Epoch 4/25\n",
      "\u001b[1m191/191\u001b[0m \u001b[32m━━━━━━━━━━━━━━━━━━━━\u001b[0m\u001b[37m\u001b[0m \u001b[1m5s\u001b[0m 28ms/step - accuracy: 0.9254 - loss: 0.1784 - val_accuracy: 0.9463 - val_loss: 0.1422\n",
      "Epoch 5/25\n",
      "\u001b[1m191/191\u001b[0m \u001b[32m━━━━━━━━━━━━━━━━━━━━\u001b[0m\u001b[37m\u001b[0m \u001b[1m5s\u001b[0m 28ms/step - accuracy: 0.9313 - loss: 0.1751 - val_accuracy: 0.9483 - val_loss: 0.1367\n",
      "Epoch 6/25\n",
      "\u001b[1m191/191\u001b[0m \u001b[32m━━━━━━━━━━━━━━━━━━━━\u001b[0m\u001b[37m\u001b[0m \u001b[1m5s\u001b[0m 29ms/step - accuracy: 0.9399 - loss: 0.1509 - val_accuracy: 0.9548 - val_loss: 0.1252\n",
      "Epoch 7/25\n",
      "\u001b[1m191/191\u001b[0m \u001b[32m━━━━━━━━━━━━━━━━━━━━\u001b[0m\u001b[37m\u001b[0m \u001b[1m6s\u001b[0m 30ms/step - accuracy: 0.9445 - loss: 0.1442 - val_accuracy: 0.9300 - val_loss: 0.1621\n",
      "Epoch 8/25\n",
      "\u001b[1m191/191\u001b[0m \u001b[32m━━━━━━━━━━━━━━━━━━━━\u001b[0m\u001b[37m\u001b[0m \u001b[1m5s\u001b[0m 29ms/step - accuracy: 0.9351 - loss: 0.1596 - val_accuracy: 0.9391 - val_loss: 0.1427\n",
      "Epoch 9/25\n",
      "\u001b[1m191/191\u001b[0m \u001b[32m━━━━━━━━━━━━━━━━━━━━\u001b[0m\u001b[37m\u001b[0m \u001b[1m5s\u001b[0m 28ms/step - accuracy: 0.9341 - loss: 0.1536 - val_accuracy: 0.9391 - val_loss: 0.1530\n",
      "Epoch 10/25\n",
      "\u001b[1m191/191\u001b[0m \u001b[32m━━━━━━━━━━━━━━━━━━━━\u001b[0m\u001b[37m\u001b[0m \u001b[1m6s\u001b[0m 29ms/step - accuracy: 0.9428 - loss: 0.1485 - val_accuracy: 0.9542 - val_loss: 0.1219\n",
      "Epoch 11/25\n",
      "\u001b[1m191/191\u001b[0m \u001b[32m━━━━━━━━━━━━━━━━━━━━\u001b[0m\u001b[37m\u001b[0m \u001b[1m6s\u001b[0m 29ms/step - accuracy: 0.9357 - loss: 0.1483 - val_accuracy: 0.9522 - val_loss: 0.1276\n",
      "Epoch 12/25\n",
      "\u001b[1m191/191\u001b[0m \u001b[32m━━━━━━━━━━━━━━━━━━━━\u001b[0m\u001b[37m\u001b[0m \u001b[1m5s\u001b[0m 28ms/step - accuracy: 0.9500 - loss: 0.1347 - val_accuracy: 0.9555 - val_loss: 0.1196\n",
      "Epoch 13/25\n",
      "\u001b[1m191/191\u001b[0m \u001b[32m━━━━━━━━━━━━━━━━━━━━\u001b[0m\u001b[37m\u001b[0m \u001b[1m6s\u001b[0m 29ms/step - accuracy: 0.9416 - loss: 0.1396 - val_accuracy: 0.9542 - val_loss: 0.1233\n",
      "Epoch 14/25\n",
      "\u001b[1m191/191\u001b[0m \u001b[32m━━━━━━━━━━━━━━━━━━━━\u001b[0m\u001b[37m\u001b[0m \u001b[1m5s\u001b[0m 28ms/step - accuracy: 0.9433 - loss: 0.1375 - val_accuracy: 0.9509 - val_loss: 0.1312\n",
      "Epoch 15/25\n",
      "\u001b[1m191/191\u001b[0m \u001b[32m━━━━━━━━━━━━━━━━━━━━\u001b[0m\u001b[37m\u001b[0m \u001b[1m5s\u001b[0m 28ms/step - accuracy: 0.9394 - loss: 0.1567 - val_accuracy: 0.9418 - val_loss: 0.1308\n",
      "Epoch 16/25\n",
      "\u001b[1m191/191\u001b[0m \u001b[32m━━━━━━━━━━━━━━━━━━━━\u001b[0m\u001b[37m\u001b[0m \u001b[1m5s\u001b[0m 28ms/step - accuracy: 0.9462 - loss: 0.1409 - val_accuracy: 0.9509 - val_loss: 0.1300\n",
      "Epoch 17/25\n",
      "\u001b[1m191/191\u001b[0m \u001b[32m━━━━━━━━━━━━━━━━━━━━\u001b[0m\u001b[37m\u001b[0m \u001b[1m5s\u001b[0m 28ms/step - accuracy: 0.9437 - loss: 0.1379 - val_accuracy: 0.9529 - val_loss: 0.1181\n",
      "Epoch 18/25\n",
      "\u001b[1m191/191\u001b[0m \u001b[32m━━━━━━━━━━━━━━━━━━━━\u001b[0m\u001b[37m\u001b[0m \u001b[1m5s\u001b[0m 28ms/step - accuracy: 0.9470 - loss: 0.1326 - val_accuracy: 0.9529 - val_loss: 0.1178\n",
      "Epoch 19/25\n",
      "\u001b[1m191/191\u001b[0m \u001b[32m━━━━━━━━━━━━━━━━━━━━\u001b[0m\u001b[37m\u001b[0m \u001b[1m6s\u001b[0m 29ms/step - accuracy: 0.9508 - loss: 0.1192 - val_accuracy: 0.9535 - val_loss: 0.1232\n",
      "Epoch 20/25\n",
      "\u001b[1m191/191\u001b[0m \u001b[32m━━━━━━━━━━━━━━━━━━━━\u001b[0m\u001b[37m\u001b[0m \u001b[1m5s\u001b[0m 28ms/step - accuracy: 0.9567 - loss: 0.1228 - val_accuracy: 0.9562 - val_loss: 0.1202\n",
      "Epoch 21/25\n",
      "\u001b[1m191/191\u001b[0m \u001b[32m━━━━━━━━━━━━━━━━━━━━\u001b[0m\u001b[37m\u001b[0m \u001b[1m5s\u001b[0m 28ms/step - accuracy: 0.9498 - loss: 0.1339 - val_accuracy: 0.9542 - val_loss: 0.1152\n",
      "Epoch 22/25\n",
      "\u001b[1m191/191\u001b[0m \u001b[32m━━━━━━━━━━━━━━━━━━━━\u001b[0m\u001b[37m\u001b[0m \u001b[1m5s\u001b[0m 28ms/step - accuracy: 0.9474 - loss: 0.1321 - val_accuracy: 0.9555 - val_loss: 0.1126\n",
      "Epoch 23/25\n",
      "\u001b[1m191/191\u001b[0m \u001b[32m━━━━━━━━━━━━━━━━━━━━\u001b[0m\u001b[37m\u001b[0m \u001b[1m5s\u001b[0m 29ms/step - accuracy: 0.9487 - loss: 0.1319 - val_accuracy: 0.9522 - val_loss: 0.1197\n",
      "Epoch 24/25\n",
      "\u001b[1m191/191\u001b[0m \u001b[32m━━━━━━━━━━━━━━━━━━━━\u001b[0m\u001b[37m\u001b[0m \u001b[1m6s\u001b[0m 29ms/step - accuracy: 0.9503 - loss: 0.1268 - val_accuracy: 0.9575 - val_loss: 0.1195\n",
      "Epoch 25/25\n",
      "\u001b[1m191/191\u001b[0m \u001b[32m━━━━━━━━━━━━━━━━━━━━\u001b[0m\u001b[37m\u001b[0m \u001b[1m6s\u001b[0m 29ms/step - accuracy: 0.9499 - loss: 0.1342 - val_accuracy: 0.9483 - val_loss: 0.1281\n",
      "Test accuracy: 0.9466\n"
     ]
    }
   ],
   "source": [
    "# Create and train the model\n",
    "model = create_model(input_shape=(X_train. shape[1], X_train. shape[2]))\n",
    "history = train_and_evaluate(model, X_train, y_train, X_test, y_test)\n"
   ]
  },
  {
   "cell_type": "code",
   "execution_count": 23,
   "metadata": {
    "execution": {
     "iopub.execute_input": "2025-02-28T04:27:55.576273Z",
     "iopub.status.busy": "2025-02-28T04:27:55.575963Z",
     "iopub.status.idle": "2025-02-28T04:27:57.622364Z",
     "shell.execute_reply": "2025-02-28T04:27:57.621463Z",
     "shell.execute_reply.started": "2025-02-28T04:27:55.576248Z"
    },
    "trusted": true
   },
   "outputs": [
    {
     "data": {
      "image/png": "[encoded data removed]",
      "text/plain": [
       "<Figure size 1200x400 with 2 Axes>"
      ]
     },
     "metadata": {},
     "output_type": "display_data"
    },
    {
     "name": "stdout",
     "output_type": "stream",
     "text": [
      "\u001b[1m60/60\u001b[0m \u001b[32m━━━━━━━━━━━━━━━━━━━━\u001b[0m\u001b[37m\u001b[0m \u001b[1m1s\u001b[0m 15ms/step\n"
     ]
    },
    {
     "data": {
      "image/png": "[encoded data removed]",
      "text/plain": [
       "<Figure size 800x600 with 2 Axes>"
      ]
     },
     "metadata": {},
     "output_type": "display_data"
    },
    {
     "name": "stdout",
     "output_type": "stream",
     "text": [
      "              precision    recall  f1-score   support\n",
      "\n",
      "           0       0.97      0.95      0.96      1234\n",
      "           1       0.91      0.95      0.93       676\n",
      "\n",
      "    accuracy                           0.95      1910\n",
      "   macro avg       0.94      0.95      0.94      1910\n",
      "weighted avg       0.95      0.95      0.95      1910\n",
      "\n"
     ]
    }
   ],
   "source": [
    "# Visualize the results\n",
    "plot_training_history(history)\n",
    "y_pred = model.predict(X_test)\n",
    "plot_confusion_matrix(y_test, y_pred)\n",
    "print(classification_report(y_test.argmax(axis=1), y_pred.argmax(axis=1)))\n",
    "\n"
   ]
  },
  {
   "cell_type": "code",
   "execution_count": 24,
   "metadata": {
    "execution": {
     "iopub.execute_input": "2025-02-28T04:28:10.926372Z",
     "iopub.status.busy": "2025-02-28T04:28:10.926052Z",
     "iopub.status.idle": "2025-02-28T04:28:10.932318Z",
     "shell.execute_reply": "2025-02-28T04:28:10.931666Z",
     "shell.execute_reply.started": "2025-02-28T04:28:10.926344Z"
    },
    "trusted": true
   },
   "outputs": [
    {
     "name": "stdout",
     "output_type": "stream",
     "text": [
      "Number of real audio samples: 2000\n",
      "Number of fake audio samples: 1183\n",
      "Total number of samples: 3183\n",
      "Shape of padded dataset: (9549, 969, 13)\n",
      "Maximum sequence length: 969\n",
      "Shape of X_train: (7639, 969, 13)\n",
      "Shape of X_test: (1910, 969, 13)\n"
     ]
    }
   ],
   "source": [
    "# Optional: Print dataset statistics\n",
    "print(f\"Number of real audio samples: {len(real_paths)}\")\n",
    "print(f\"Number of fake audio samples: {len(fake_paths)}\")\n",
    "print(f\"Total number of samples: {len(real_paths) + len(fake_paths)}\")\n",
    "print(f\"Shape of padded dataset: {X_padded. shape}\")\n",
    "print(f\"Maximum sequence length: {max_length}\")\n",
    "print(f\"Shape of X_train: {X_train.shape}\")\n",
    "print(f\"Shape of X_test: {X_test. shape}\")\n"
   ]
  },
  {
   "cell_type": "code",
   "execution_count": 25,
   "metadata": {
    "execution": {
     "iopub.execute_input": "2025-02-28T04:28:22.954573Z",
     "iopub.status.busy": "2025-02-28T04:28:22.954278Z",
     "iopub.status.idle": "2025-02-28T04:28:22.959339Z",
     "shell.execute_reply": "2025-02-28T04:28:22.958560Z",
     "shell.execute_reply.started": "2025-02-28T04:28:22.954550Z"
    },
    "trusted": true
   },
   "outputs": [],
   "source": [
    "import librosa\n",
    "from tensorflow.keras.preprocessing.sequence import pad_sequences\n",
    "import numpy as np\n",
    "def preprocess_audio(audio_path, max_length):\n",
    "    # Load the audio\n",
    "    audio, sr = librosa.load(audio_path, sr=None)\n",
    "\n",
    "    # Extract MFCC features (use same parameters as training)\n",
    "    mfccs = librosa.feature.mfcc(y=audio, sr=sr, n_mfcc=13)\n",
    "\n",
    "    # Transpose the MFCCs to match the input format\n",
    "    mfccs = mfccs.T\n",
    "\n",
    "    # Pad the sequence to the max length used during training\n",
    "    padded_mfccs = pad_sequences([mfccs], maxlen=max_length, dtype='float32', padding='post', truncating='post')\n",
    "\n",
    "    return padded_mfccs\n"
   ]
  },
  {
   "cell_type": "code",
   "execution_count": 33,
   "metadata": {
    "execution": {
     "iopub.execute_input": "2025-02-28T04:39:54.232385Z",
     "iopub.status.busy": "2025-02-28T04:39:54.232078Z",
     "iopub.status.idle": "2025-02-28T04:39:54.368981Z",
     "shell.execute_reply": "2025-02-28T04:39:54.368126Z",
     "shell.execute_reply.started": "2025-02-28T04:39:54.232362Z"
    },
    "trusted": true
   },
   "outputs": [
    {
     "name": "stdout",
     "output_type": "stream",
     "text": [
      "\u001b[1m1/1\u001b[0m \u001b[32m━━━━━━━━━━━━━━━━━━━━\u001b[0m\u001b[37m\u001b[0m \u001b[1m0s\u001b[0m 20ms/step\n",
      "/kaggle/input/ai-real/data/fake/file1000.wav: Fake\n",
      "\u001b[1m1/1\u001b[0m \u001b[32m━━━━━━━━━━━━━━━━━━━━\u001b[0m\u001b[37m\u001b[0m \u001b[1m0s\u001b[0m 20ms/step\n",
      "/kaggle/input/ai-real/data/real/file4916.wav: Real\n"
     ]
    }
   ],
   "source": [
    "test_audio_paths = [\"/kaggle/input/ai-real/data/fake/file1000.wav\",\"/kaggle/input/ai-real/data/real/file4916.wav\"]\n",
    "for audio_path in test_audio_paths :\n",
    "    padded_sample = preprocess_audio(audio_path, max_length=X_train.shape [1])\n",
    "    prediction = model.predict(padded_sample)\n",
    "    predicted_class = np.argmax(prediction, axis=1) [0]\n",
    "\n",
    "    if predicted_class == 1:\n",
    "        print(f\"{audio_path}: Fake\")\n",
    "    else :\n",
    "       print(f\"{audio_path}: Real\")\n"
   ]
  },
  {
   "cell_type": "code",
   "execution_count": 34,
   "metadata": {
    "execution": {
     "iopub.execute_input": "2025-02-28T04:40:09.968138Z",
     "iopub.status.busy": "2025-02-28T04:40:09.967857Z",
     "iopub.status.idle": "2025-02-28T04:40:09.998070Z",
     "shell.execute_reply": "2025-02-28T04:40:09.997253Z",
     "shell.execute_reply.started": "2025-02-28T04:40:09.968116Z"
    },
    "trusted": true
   },
   "outputs": [],
   "source": [
    "#model.save(\"/content/drive/MyDrive/AUDIO/deepfake_audio_model.h5\")\n",
    "\n",
    "model.save('1stm_model.h5')"
   ]
  }
 ],
 "metadata": {
  "kaggle": {
   "accelerator": "nvidiaTeslaT4",
   "dataSources": [
    {
     "datasetId": 6757710,
     "sourceId": 10876180,
     "sourceType": "datasetVersion"
    }
   ],
   "dockerImageVersionId": 30918,
   "isGpuEnabled": true,
   "isInternetEnabled": false,
   "language": "python",
   "sourceType": "notebook"
  },
  "kernelspec": {
   "display_name": "Python 3",
   "language": "python",
   "name": "python3"
  },
  "language_info": {
   "codemirror_mode": {
    "name": "ipython",
    "version": 3
   },
   "file_extension": ".py",
   "mimetype": "text/x-python",
   "name": "python",
   "nbconvert_exporter": "python",
   "pygments_lexer": "ipython3",
   "version": "3.10.12"
  }
 },
 "nbformat": 4,
 "nbformat_minor": 4
}
